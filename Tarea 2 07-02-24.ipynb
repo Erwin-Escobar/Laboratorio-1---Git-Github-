{
 "cells": [
  {
   "cell_type": "markdown",
   "id": "6ef35201-1850-4b36-bbd2-b541329fa114",
   "metadata": {},
   "source": [
    "## Qué es git"
   ]
  },
  {
   "cell_type": "markdown",
   "id": "79d22804-5fc4-440d-8972-529113881d09",
   "metadata": {},
   "source": [
    "Git es una herramienta que realizar el sistema de control de versiones de código de forma distribuida. Es de código abierto, con mantenimiento activo y la herramienta de este tipo más empleada en el mundo.\n",
    "\n",
    "Muchos proyectos de software dependen de Git para el control de versiones, incluidos proyectos comerciales y de código abierto.  Esta herramienta fue creada por Linus Torvalds, el famoso creador del kernel del sistema operativo Linux, en 2005\n",
    "\n",
    "Este sistema funciona muy bien en una amplia variedad de sistemas operativos e IDE (entornos de desarrollo integrados). Git cuenta con una arquitectura distribuida. En lugar de tener un único espacio para todo el historial de versiones del software, propio de los sistemas de control como CVS o Subversion, aquí la copia de trabajo del código de cada desarrollador es un repositorio que puede albergar el historial completo de todos los cambios.\n",
    "\n",
    "Rendimiento, seguridad y flexibilidad son las bases sobre las que se ha diseñado Git. Es una herramienta muy potente, rápida, ágil y de software libre. Tiene un sistema de trabajo con ramas que lo hace especialmente potente. Estas ramas se destinan a hacer proyectos divergentes de un proyecto principal, para hacer experimentos o para probar nuevas funcionalidades. Cada rama puede tener una línea de progreso diferente de la rama principal donde está el core de nuestro desarrollo. Podemos algunas de esas mejoras o cambios en el código y hacer una fusión a nuestro proyecto principal."
   ]
  },
  {
   "cell_type": "markdown",
   "id": "8968bb10-8761-4551-9bf9-485af6d3a8fa",
   "metadata": {},
   "source": [
    "## Qué es github"
   ]
  },
  {
   "cell_type": "markdown",
   "id": "81f977da-d1c1-4308-9ed8-1ee025b26bd7",
   "metadata": {
    "tags": []
   },
   "source": [
    "GitHub es un servicio basado en la nube que aloja un sistema de control de versiones (VCS) llamado Git. Éste permite a los desarrolladores colaborar y realizar cambios en proyectos compartidos, a la vez que mantienen un seguimiento detallado de su progreso.\n",
    "Algunas características clave de GitHub incluyen la posibilidad de realizar solicitudes de extracción (pull requests), la gestión de problemas (issues), y la integración continua con servicios de automatización de construcción y prueba. GitHub facilita la colaboración entre desarrolladores de todo el mundo.\n",
    "El control de versiones es un sistema que ayuda a rastrear y gestionar los cambios realizados en un archivo o conjunto de archivos. Utilizado principalmente por ingenieros de software para hacer un seguimiento de las modificaciones realizadas en el código fuente, el sistema de control de versiones les permite analizar todos los cambios y revertirlos sin repercusiones si se comete un error.\n",
    "\n",
    "En otras palabras, el control de versiones permite a los desarrolladores trabajar en proyectos simultáneamente. Les permite hacer tantos cambios como necesiten sin infringir o retrasar el trabajo de sus colegas.\n",
    "\n",
    "Si esos cambios en el código fuente arruinan el proyecto cuando se implementan, GitHub hace que sea fácil revertirlos con unos pocos clics, y se recuperará la versión anterior del proyecto.\n",
    "\n",
    "En síntesis, el control de versiones elimina los riesgos y el miedo a cometer demasiados errores. En cambio, proporciona la libertad de colaborar y desarrollar sin demasiadas preocupaciones.\n",
    "GitHub aloja más de 100 millones de repositorios, la mayoría de los cuales son proyectos de código abierto. Esta estadística revela que GitHub se encuentra entre los clientes Git GUI más populares y es utilizado por varios profesionales y grandes empresas, como Hostinger.\n",
    "\n",
    "Esto se debe a que GitHub es una plataforma de gestión y organización de proyectos basada en la nube que incorpora las funciones de control de versiones de Git. Es decir que todos los usuarios de GitHub pueden rastrear y gestionar los cambios que se realizan en el código fuente en tiempo real, a la vez que tienen acceso a todas las demás funciones de Git disponibles en el mismo lugar.\n",
    "\n",
    "Además, la interfaz de usuario de GitHub es más fácil de usar que la de Git, lo que la hace accesible para personas con pocos o ningún conocimiento técnico. Esto significa que se puede incluir a más miembros del equipo en el progreso y la gestión de un proyecto, haciendo que el proceso de desarrollo sea más fluido."
   ]
  },
  {
   "cell_type": "markdown",
   "id": "7690dd21-c7da-4ce0-931b-d14c7593c137",
   "metadata": {},
   "source": [
    "## MagicCells"
   ]
  },
  {
   "cell_type": "markdown",
   "id": "1b26eb6e-7f9b-4626-8049-30c18fee2667",
   "metadata": {},
   "source": [
    "MagicCells es una característica de los entornos de ejecución de notebooks como Jupyter. Permite etiquetar celdas de código o texto con comandos especiales, conocidos como \"comandos mágicos\", que proporcionan funcionalidades adicionales.\n",
    "\n",
    "Por ejemplo, se pueden utilizar comandos mágicos para cargar extensiones, medir el tiempo de ejecución de una celda, o incluso realizar acciones específicas dependiendo del lenguaje de programación utilizado en la celda."
   ]
  },
  {
   "cell_type": "markdown",
   "id": "64fba83e-6b3e-443b-8e59-ddb8335bfb3c",
   "metadata": {},
   "source": [
    "## Link de github"
   ]
  },
  {
   "cell_type": "markdown",
   "id": "e60b646d-8ed1-4c7c-b4e0-0002bd6b7e11",
   "metadata": {},
   "source": [
    "https://github.com/Erwin-Escobar/Laboratorio-1---Git-Github-.git"
   ]
  },
  {
   "cell_type": "code",
   "execution_count": null,
   "id": "c657d315-3348-4cc8-82e1-0d48eea8b3b3",
   "metadata": {},
   "outputs": [],
   "source": []
  },
  {
   "cell_type": "code",
   "execution_count": null,
   "id": "95cc747e-74bf-4332-aa23-479171c49769",
   "metadata": {},
   "outputs": [],
   "source": []
  }
 ],
 "metadata": {
  "kernelspec": {
   "display_name": "Python 3 (ipykernel)",
   "language": "python",
   "name": "python3"
  },
  "language_info": {
   "codemirror_mode": {
    "name": "ipython",
    "version": 3
   },
   "file_extension": ".py",
   "mimetype": "text/x-python",
   "name": "python",
   "nbconvert_exporter": "python",
   "pygments_lexer": "ipython3",
   "version": "3.11.5"
  }
 },
 "nbformat": 4,
 "nbformat_minor": 5
}
